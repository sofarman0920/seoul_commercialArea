{
 "cells": [
  {
   "cell_type": "code",
   "execution_count": 3,
   "metadata": {},
   "outputs": [],
   "source": [
    "import pandas as pd\n",
    "\n",
    "# CSV 파일 읽기\n",
    "money = pd.read_csv(r'C:\\Users\\m\\project\\공공데이터_상권분석\\data\\서울시 상권데이터\\서울시_상권분석_서비스(추정매출-상권).csv')  # DataFrame 객체로 로드\n",
    "human = pd.read_csv(r'C:\\Users\\m\\project\\공공데이터_상권분석\\data\\서울시 상권데이터\\서울시_상권분석_서비스(길단위인구-상권).csv')\n",
    "map_sang = pd.read_csv(r'C:\\Users\\m\\project\\공공데이터_상권분석\\data\\서울시 상권데이터\\서울시_상권분석_서비스(영역-상권).csv')"
   ]
  },
  {
   "cell_type": "code",
   "execution_count": 4,
   "metadata": {},
   "outputs": [],
   "source": [
    "#필요한 컬럼만 선택하기\n",
    "money = money[['기준_년분기_코드','상권_코드','상권_코드_명','당월_매출_금액']]\n",
    "human = human[['기준_년분기_코드','상권_코드','총_유동인구_수']]\n",
    "map_sang = map_sang[['상권_코드','엑스좌표_값','와이좌표_값','자치구_코드_명','행정동_코드_명']]"
   ]
  },
  {
   "cell_type": "code",
   "execution_count": 5,
   "metadata": {},
   "outputs": [],
   "source": [
    "# 추정매출과 길단위인구 조인 1step\n",
    "join_1step = pd.merge(money, human, on=['기준_년분기_코드', '상권_코드'], how='inner')"
   ]
  },
  {
   "cell_type": "code",
   "execution_count": 14,
   "metadata": {},
   "outputs": [],
   "source": [
    "# 1차에서 조인 되지 못한 상권코드\n",
    "unmatched_from_df1 = money.merge(human, on=['기준_년분기_코드', '상권_코드'], how='left', indicator=True)\n",
    "unmatched_code = unmatched_from_df1[unmatched_from_df1['_merge'] == 'left_only']"
   ]
  },
  {
   "cell_type": "code",
   "execution_count": 15,
   "metadata": {},
   "outputs": [],
   "source": [
    "# 1step에서 조인 한것과 영역 데이터 조인\n",
    "join_final = pd.merge(join_1step, map_sang, on=['상권_코드'], how='inner')"
   ]
  },
  {
   "cell_type": "code",
   "execution_count": 17,
   "metadata": {},
   "outputs": [],
   "source": [
    "#2차에서 조인 되지 못한 상권코드\n",
    "unmatched_from_df1 = join_1step.merge(map_sang, on=['상권_코드'], how='left', indicator=True)\n",
    "unmatched_code2 = unmatched_from_df1[unmatched_from_df1['_merge'] == 'left_only']"
   ]
  },
  {
   "cell_type": "code",
   "execution_count": 28,
   "metadata": {},
   "outputs": [],
   "source": [
    "# '기준_년분기_코드' 값을 년월로 변환하는 함수 정의\n",
    "def convert_to_year_month(value):\n",
    "    year = value // 10  # 앞의 네 자리는 연도\n",
    "    quarter = value % 10  # 마지막 한 자리는 분기\n",
    "    month = (quarter - 1) * 3 + 1  # 분기를 기준으로 첫 달 계산\n",
    "    return f\"{year}-{month:02d}\"  # YYYY-MM 형식으로 반환\n",
    "# 변환 적용\n",
    "join_final['날짜'] = join_final['기준_년분기_코드'].apply(convert_to_year_month)"
   ]
  },
  {
   "cell_type": "code",
   "execution_count": 31,
   "metadata": {},
   "outputs": [],
   "source": [
    "join_final = join_final[join_final['날짜'] >= '2021-02']"
   ]
  },
  {
   "cell_type": "code",
   "execution_count": 32,
   "metadata": {},
   "outputs": [],
   "source": [
    "#최종 데이터 저장\n",
    "join_final.to_csv(r'C:\\Users\\m\\project\\공공데이터_상권분석\\data\\서울시 상권데이터\\종합_대시보드데이터.csv', index=False, encoding='utf-8-sig')\n",
    "unmatched_code.to_csv(r'C:\\Users\\m\\project\\공공데이터_상권분석\\data\\서울시 상권데이터\\유동인구없는_상권코드.csv', index=False, encoding='utf-8-sig')"
   ]
  },
  {
   "cell_type": "code",
   "execution_count": null,
   "metadata": {},
   "outputs": [],
   "source": []
  }
 ],
 "metadata": {
  "kernelspec": {
   "display_name": "Python 3",
   "language": "python",
   "name": "python3"
  },
  "language_info": {
   "codemirror_mode": {
    "name": "ipython",
    "version": 3
   },
   "file_extension": ".py",
   "mimetype": "text/x-python",
   "name": "python",
   "nbconvert_exporter": "python",
   "pygments_lexer": "ipython3",
   "version": "3.12.8"
  }
 },
 "nbformat": 4,
 "nbformat_minor": 2
}
