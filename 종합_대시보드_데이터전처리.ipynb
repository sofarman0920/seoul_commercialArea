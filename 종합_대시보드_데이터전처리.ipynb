{
 "cells": [
  {
   "cell_type": "code",
   "execution_count": 1,
   "metadata": {},
   "outputs": [],
   "source": [
    "import pandas as pd\n",
    "\n",
    "# CSV 파일 읽기\n",
    "money = pd.read_csv(r'C:\\Users\\m\\project\\공공데이터_상권분석\\data\\서울시 상권데이터\\서울시_상권분석_서비스(추정매출-상권).csv')  # DataFrame 객체로 로드\n",
    "human = pd.read_csv(r'C:\\Users\\m\\project\\공공데이터_상권분석\\data\\서울시 상권데이터\\서울시_상권분석_서비스(길단위인구-상권).csv')\n",
    "map_sang = pd.read_csv(r'C:\\Users\\m\\project\\공공데이터_상권분석\\data\\서울시 상권데이터\\서울시_상권분석_서비스(영역-상권).csv')\n",
    "coordinate = pd.read_csv(r'C:\\Users\\m\\project\\공공데이터_상권분석\\data\\서울시 상권데이터\\위도경도.csv')"
   ]
  },
  {
   "cell_type": "code",
   "execution_count": 2,
   "metadata": {},
   "outputs": [],
   "source": [
    "#필요한 컬럼만 선택하기\n",
    "money = money[['기준_년분기_코드','상권_구분_코드_명','상권_코드','상권_코드_명','당월_매출_금액','남성_매출_금액','여성_매출_금액','서비스_업종_코드_명']]\n",
    "human = human[['기준_년분기_코드','상권_코드','총_유동인구_수','남성_유동인구_수','여성_유동인구_수']]\n",
    "map_sang = map_sang[['상권_코드','자치구_코드_명','행정동_코드_명']]\n",
    "coordinate = coordinate[['상권_코드','경도1','위도1']]"
   ]
  },
  {
   "cell_type": "code",
   "execution_count": 3,
   "metadata": {},
   "outputs": [],
   "source": [
    "# 추정매출과 길단위인구 조인 1step\n",
    "join_1step = pd.merge(money, human, on=['기준_년분기_코드', '상권_코드'], how='inner')"
   ]
  },
  {
   "cell_type": "code",
   "execution_count": 4,
   "metadata": {},
   "outputs": [],
   "source": [
    "# 1차에서 조인 되지 못한 상권코드\n",
    "unmatched_from_df1 = money.merge(human, on=['기준_년분기_코드', '상권_코드'], how='left', indicator=True)\n",
    "unmatched_code = unmatched_from_df1[unmatched_from_df1['_merge'] == 'left_only']"
   ]
  },
  {
   "cell_type": "code",
   "execution_count": 5,
   "metadata": {},
   "outputs": [],
   "source": [
    "# 1step에서 조인 한것과 영역 데이터 조인(2차조인)\n",
    "join_2step = pd.merge(join_1step, map_sang, on=['상권_코드'], how='inner')"
   ]
  },
  {
   "cell_type": "code",
   "execution_count": 6,
   "metadata": {},
   "outputs": [],
   "source": [
    "#2차에서 조인 되지 못한 상권코드\n",
    "unmatched_from_df1 = join_1step.merge(map_sang, on=['상권_코드'], how='left', indicator=True)\n",
    "unmatched_code2 = unmatched_from_df1[unmatched_from_df1['_merge'] == 'left_only']"
   ]
  },
  {
   "cell_type": "code",
   "execution_count": 7,
   "metadata": {},
   "outputs": [],
   "source": [
    "# '기준_년분기_코드' 값을 년월로 변환하는 함수 정의\n",
    "def convert_to_date(code):\n",
    "    year = int(str(code)[:4])  # 연도 추출\n",
    "    quarter = int(str(code)[-1])  # 분기 추출\n",
    "    month = (quarter - 1) * 3 + 1  # 분기에 따라 시작 월 계산\n",
    "    return pd.Timestamp(year=year, month=month, day=1)\n",
    "# 변환 적용\n",
    "join_2step['기준_년분기_코드_날짜'] = join_2step['기준_년분기_코드'].apply(convert_to_date)"
   ]
  },
  {
   "cell_type": "code",
   "execution_count": 8,
   "metadata": {},
   "outputs": [],
   "source": [
    "join_3step = join_2step[join_2step['기준_년분기_코드_날짜'] >= pd.Timestamp(year=2022, month=1, day=1)]\n"
   ]
  },
  {
   "cell_type": "code",
   "execution_count": 9,
   "metadata": {},
   "outputs": [
    {
     "name": "stderr",
     "output_type": "stream",
     "text": [
      "C:\\Users\\m\\AppData\\Local\\Temp\\ipykernel_6564\\1505405958.py:3: SettingWithCopyWarning: \n",
      "A value is trying to be set on a copy of a slice from a DataFrame.\n",
      "Try using .loc[row_indexer,col_indexer] = value instead\n",
      "\n",
      "See the caveats in the documentation: https://pandas.pydata.org/pandas-docs/stable/user_guide/indexing.html#returning-a-view-versus-a-copy\n",
      "  join_3step['상권_코드'] = join_3step['상권_코드'].astype('category')\n"
     ]
    }
   ],
   "source": [
    "# 데이터 타입 최적화\n",
    "coordinate['상권_코드'] = coordinate['상권_코드'].astype('category')\n",
    "join_3step['상권_코드'] = join_3step['상권_코드'].astype('category')\n"
   ]
  },
  {
   "cell_type": "code",
   "execution_count": 10,
   "metadata": {},
   "outputs": [],
   "source": [
    "# 2step에서 조인 한것과 영역 데이터 조인(3차조인)\n",
    "join_final = pd.merge(join_3step, coordinate, on=['상권_코드'], how='inner')"
   ]
  },
  {
   "cell_type": "code",
   "execution_count": 11,
   "metadata": {},
   "outputs": [],
   "source": [
    "#3차에서 조인 되지 못한 상권코드\n",
    "unmatched_from_df2 = join_3step.merge(coordinate, on=['상권_코드'], how='left', indicator=True)\n",
    "unmatched_code3 = unmatched_from_df2[unmatched_from_df2['_merge'] == 'left_only']"
   ]
  },
  {
   "cell_type": "code",
   "execution_count": 12,
   "metadata": {},
   "outputs": [],
   "source": [
    "# 중복 제거\n",
    "join_final = join_final.drop_duplicates()"
   ]
  },
  {
   "cell_type": "code",
   "execution_count": 13,
   "metadata": {},
   "outputs": [],
   "source": [
    "#최종 데이터 저장\n",
    "join_final.to_csv(r'C:\\Users\\m\\project\\공공데이터_상권분석\\data\\서울시 상권데이터\\종합_대시보드데이터.csv', index=False, encoding='utf-8-sig')\n",
    "unmatched_code.to_csv(r'C:\\Users\\m\\project\\공공데이터_상권분석\\data\\서울시 상권데이터\\유동인구없는_상권코드.csv', index=False, encoding='utf-8-sig')\n",
    "unmatched_code3.to_csv(r'C:\\Users\\m\\project\\공공데이터_상권분석\\data\\서울시 상권데이터\\좌표없는_상권코드.csv', index=False, encoding='utf-8-sig')"
   ]
  },
  {
   "cell_type": "code",
   "execution_count": null,
   "metadata": {},
   "outputs": [],
   "source": []
  }
 ],
 "metadata": {
  "kernelspec": {
   "display_name": "base",
   "language": "python",
   "name": "python3"
  },
  "language_info": {
   "codemirror_mode": {
    "name": "ipython",
    "version": 3
   },
   "file_extension": ".py",
   "mimetype": "text/x-python",
   "name": "python",
   "nbconvert_exporter": "python",
   "pygments_lexer": "ipython3",
   "version": "3.12.3"
  }
 },
 "nbformat": 4,
 "nbformat_minor": 2
}
